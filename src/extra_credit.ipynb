{
 "cells": [
  {
   "cell_type": "code",
   "execution_count": 15,
   "metadata": {},
   "outputs": [],
   "source": [
    "import psycopg2\n",
    "import json\n",
    "import matplotlib.pyplot as plt"
   ]
  },
  {
   "cell_type": "code",
   "execution_count": 31,
   "metadata": {},
   "outputs": [
    {
     "data": {
      "image/png": "[encoded data removed]",
      "text/plain": [
       "<Figure size 432x288 with 1 Axes>"
      ]
     },
     "metadata": {
      "needs_background": "light"
     },
     "output_type": "display_data"
    }
   ],
   "source": [
    "username = \"\"\n",
    "password = \"\"\n",
    "database = \"\"\n",
    "\n",
    "\n",
    "\n",
    "with open('/Users/sunpyohong/Desktop/Database Management/hsump1996-homework08/src/config.json', \"r\") as handler:\n",
    "\n",
    "    data = json.load(handler)\n",
    "\n",
    "    username = data[\"username\"]\n",
    "    password = data[\"password\"]\n",
    "    database = data[\"database\"]\n",
    "\n",
    "\n",
    "conn = psycopg2.connect(dbname=str(database), user=str(username), password=str(password))\n",
    "    \n",
    "cur = conn.cursor()\n",
    "\n",
    "\n",
    "\n",
    "q =  \"\"\"create or replace view borough_report as\n",
    "select eatery_id, name, park_id, CASE\n",
    "    WHEN park_id LIKE 'X%' THEN 'Bronx'\n",
    "    WHEN park_id LIKE 'B%' THEN 'Brooklyn'\n",
    "    WHEN park_id LIKE 'M%' THEN 'Manhattan'\n",
    "    WHEN park_id LIKE 'Q%' THEN 'Queens'\n",
    "    WHEN park_id LIKE 'R%' THEN 'Staten Island'\n",
    "END AS borough\n",
    "FROM eatery e;\n",
    "\"\"\"\n",
    "\n",
    "b =  \"\"\"select borough, count(borough)\n",
    "from borough_report\n",
    "group by borough;\n",
    "\"\"\"\n",
    "\n",
    "cur.execute(q);\n",
    "conn.commit()\n",
    "cur.execute(b);\n",
    "\n",
    "borough = []\n",
    "count = []\n",
    "\n",
    "for row in cur:\n",
    "   borough.append(str(row[0]))\n",
    "   count.append(int(row[1]))\n",
    "\n",
    "plt.bar(borough, count)\n",
    "plt.xlabel('Borough')\n",
    "plt.ylabel('Count')\n",
    "plt.title('Number of Eateries per Borough')\n",
    "plt.show()"
   ]
  },
  {
   "cell_type": "code",
   "execution_count": 30,
   "metadata": {},
   "outputs": [
    {
     "data": {
      "image/png": "[encoded data removed]",
      "text/plain": [
       "<Figure size 432x288 with 1 Axes>"
      ]
     },
     "metadata": {
      "needs_background": "light"
     },
     "output_type": "display_data"
    }
   ],
   "source": [
    "s = \"\"\" select extract(YEAR from start_date) as year, count(name) as number_of_eateries\n",
    "from eatery\n",
    "where extract(YEAR from start_date) IS NOT NULL\n",
    "group by year; \"\"\"\n",
    "\n",
    "\n",
    "cur.execute(s);\n",
    "\n",
    "year = []\n",
    "number_of_eateries = []\n",
    "\n",
    "for result in cur:\n",
    "    year.append(int(result[0]))\n",
    "    number_of_eateries.append(int(result[1]))\n",
    "\n",
    "plt.bar(year, number_of_eateries, width=0.5)\n",
    "\n",
    "plt.xlabel('Year')\n",
    "plt.ylabel('Number of Eateries')\n",
    "plt.title('Count of Eateries per Year')\n",
    "\n",
    "plt.show()\n"
   ]
  },
  {
   "cell_type": "code",
   "execution_count": null,
   "metadata": {},
   "outputs": [],
   "source": []
  }
 ],
 "metadata": {
  "kernelspec": {
   "display_name": "Python 3",
   "language": "python",
   "name": "python3"
  },
  "language_info": {
   "codemirror_mode": {
    "name": "ipython",
    "version": 3
   },
   "file_extension": ".py",
   "mimetype": "text/x-python",
   "name": "python",
   "nbconvert_exporter": "python",
   "pygments_lexer": "ipython3",
   "version": "3.8.5"
  }
 },
 "nbformat": 4,
 "nbformat_minor": 4
}
